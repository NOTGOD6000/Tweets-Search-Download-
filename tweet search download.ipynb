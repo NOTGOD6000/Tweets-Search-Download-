{
  "nbformat": 4,
  "nbformat_minor": 0,
  "metadata": {
    "colab": {
      "provenance": [],
      "authorship_tag": "ABX9TyMVjBj5cr+kBJVfG4uJiWx4",
      "include_colab_link": true
    },
    "kernelspec": {
      "name": "python3",
      "display_name": "Python 3"
    },
    "language_info": {
      "name": "python"
    }
  },
  "cells": [
    {
      "cell_type": "markdown",
      "metadata": {
        "id": "view-in-github",
        "colab_type": "text"
      },
      "source": [
        "<a href=\"https://colab.research.google.com/github/NOTGOD6000/Tweets-Search-Download-/blob/main/tweet%20search%20download.ipynb\" target=\"_parent\"><img src=\"https://colab.research.google.com/assets/colab-badge.svg\" alt=\"Open In Colab\"/></a>"
      ]
    },
    {
      "cell_type": "code",
      "execution_count": 2,
      "metadata": {
        "colab": {
          "base_uri": "https://localhost:8080/"
        },
        "id": "Bf0dm25Ujd19",
        "outputId": "083dc178-3578-42bb-d0ed-d91ea84231d6"
      },
      "outputs": [
        {
          "output_type": "stream",
          "name": "stdout",
          "text": [
            "Requirement already satisfied: tweepy in /usr/local/lib/python3.11/dist-packages (4.15.0)\n",
            "Requirement already satisfied: oauthlib<4,>=3.2.0 in /usr/local/lib/python3.11/dist-packages (from tweepy) (3.2.2)\n",
            "Requirement already satisfied: requests<3,>=2.27.0 in /usr/local/lib/python3.11/dist-packages (from tweepy) (2.32.3)\n",
            "Requirement already satisfied: requests-oauthlib<3,>=1.2.0 in /usr/local/lib/python3.11/dist-packages (from tweepy) (2.0.0)\n",
            "Requirement already satisfied: charset-normalizer<4,>=2 in /usr/local/lib/python3.11/dist-packages (from requests<3,>=2.27.0->tweepy) (3.4.2)\n",
            "Requirement already satisfied: idna<4,>=2.5 in /usr/local/lib/python3.11/dist-packages (from requests<3,>=2.27.0->tweepy) (3.10)\n",
            "Requirement already satisfied: urllib3<3,>=1.21.1 in /usr/local/lib/python3.11/dist-packages (from requests<3,>=2.27.0->tweepy) (2.4.0)\n",
            "Requirement already satisfied: certifi>=2017.4.17 in /usr/local/lib/python3.11/dist-packages (from requests<3,>=2.27.0->tweepy) (2025.6.15)\n"
          ]
        }
      ],
      "source": [
        "! pip install tweepy"
      ]
    },
    {
      "cell_type": "code",
      "source": [
        "import tweepy\n",
        "import os\n",
        "\n",
        "bearer_token = \"your_bearer_token_here\"\n",
        "client = tweepy.Client(bearer_token=bearer_token)\n",
        "\n",
        "def search_and_download_tweets(query, max_tweets=10, output_file=\"tweets.txt\"):\n",
        "    try:\n",
        "        response = client.search_recent_tweets(\n",
        "            query=query,\n",
        "            max_results=max_tweets,\n",
        "            tweet_fields=['created_at', 'public_metrics']\n",
        "        )\n",
        "        print(f\"\\nShowing {max_tweets} tweets for query: '{query}'\\n\")\n",
        "        if response.data:\n",
        "            with open(output_file, \"w\", encoding=\"utf-8\") as file:\n",
        "                file.write(f\"Tweets for query: '{query}'\\n\")\n",
        "                file.write(f\"Max Tweets: {max_tweets}\\n\")\n",
        "                file.write(\"=\"*50 + \"\\n\")\n",
        "                for tweet in response.data:\n",
        "                    file.write(f\"Tweet: {tweet.text}\\n\")\n",
        "                    file.write(f\"Date: {tweet.created_at}\\n\")\n",
        "                    file.write(f\"Likes: {tweet.public_metrics['like_count']}, Retweets: {tweet.public_metrics['retweet_count']}\\n\")\n",
        "                    file.write(\"-\" * 50 + \"\\n\")\n",
        "            print(f\"\\n{max_tweets} tweets have been saved to '{output_file}'.\")\n",
        "        else:\n",
        "            print(\"No tweets found for this query.\")\n",
        "    except tweepy.TweepyException as e:\n",
        "        print(f\"Error: {e}\")\n",
        "\n",
        "if __name__ == \"__main__\":\n",
        "    query = input(\"Enter a search query: \")\n",
        "    max_tweets = int(input(\"Enter the number of tweets to fetch (10-100): \"))\n",
        "    output_file = input(\"Enter the name of the output file (e.g., tweets.txt): \")\n",
        "\n",
        "    if os.path.exists(output_file):\n",
        "        overwrite = input(f\"The file '{output_file}' already exists. Do you want to overwrite it? (y/n): \")\n",
        "        if overwrite.lower() != \"y\":\n",
        "            print(\"Exiting without saving.\")\n",
        "            exit()\n",
        "\n",
        "    if max_tweets < 10:\n",
        "        print(\"Minimum allowed tweets per request is 10. Setting to 10.\")\n",
        "        max_tweets = 10\n",
        "    elif max_tweets > 100:\n",
        "        print(\"Maximum allowed tweets per request is 100. Setting to 100.\")\n",
        "        max_tweets = 100\n",
        "\n",
        "    search_and_download_tweets(query, max_tweets, output_file)\n"
      ],
      "metadata": {
        "colab": {
          "base_uri": "https://localhost:8080/"
        },
        "id": "HaDsG4Xuj45Q",
        "outputId": "f9e7ff68-d55b-411d-8b9c-5f30bf905923"
      },
      "execution_count": 12,
      "outputs": [
        {
          "output_type": "stream",
          "name": "stdout",
          "text": [
            "Enter a search query: wa\n",
            "Enter the number of tweets to fetch (10-100): 1\n",
            "Enter the name of the output file (e.g., tweets.txt): 2\n",
            "Minimum allowed tweets per request is 10. Setting to 10.\n",
            "Error: 401 Unauthorized\n",
            "Unauthorized\n"
          ]
        }
      ]
    }
  ]
}